{
 "cells": [
  {
   "cell_type": "code",
   "execution_count": 1,
   "metadata": {
    "collapsed": true,
    "deletable": true,
    "editable": true
   },
   "outputs": [],
   "source": [
    "import nltk\n",
    "import codecs"
   ]
  },
  {
   "cell_type": "code",
   "execution_count": 2,
   "metadata": {
    "collapsed": true
   },
   "outputs": [],
   "source": [
    "inpf1 = codecs.open('turkish.all', 'r','utf-8')\n",
    "outf1 = codecs.open('turkish.all.tok','w','utf-8')\n",
    "max_len = 100\n",
    "data1 = inpf1.read()\n",
    "sents1 = data1.split('\\n')"
   ]
  },
  {
   "cell_type": "code",
   "execution_count": 8,
   "metadata": {
    "collapsed": true,
    "deletable": true,
    "editable": true
   },
   "outputs": [],
   "source": [
    "no_of_sent = len(sents1)\n",
    "for i in range(no_of_sent):\n",
    "    if(sents1[i][0:7] == \"http://\" or sents1[i][0:7] == \"https://\"):\n",
    "            continue\n",
    "    tokens1 = nltk.word_tokenize(sents1[i])\n",
    "    if len(tokens1) < max_len:\n",
    "        outf1.write('\\t'.join(tokens1)+'\\n')"
   ]
  },
  {
   "cell_type": "code",
   "execution_count": 9,
   "metadata": {
    "collapsed": false,
    "deletable": true,
    "editable": true
   },
   "outputs": [],
   "source": [
    "inpf1.close()\n",
    "outf1.close()"
   ]
  },
  {
   "cell_type": "code",
   "execution_count": 11,
   "metadata": {
    "collapsed": false,
    "deletable": true,
    "editable": true
   },
   "outputs": [
    {
     "name": "stdout",
     "output_type": "stream",
     "text": [
      "[u'analysi', u'analyz', u'ass', u'assess']\n"
     ]
    }
   ],
   "source": [
    "import nltk\n",
    "stemmer = nltk.PorterStemmer()\n",
    "words = ['assess','ass','assesses','analyze','analysis']\n",
    "stems = []\n",
    "for word in words:\n",
    " stem_word = stemmer.stem(word)\n",
    " stems.append(stem_word)\n",
    "print sorted(set(stems))"
   ]
  },
  {
   "cell_type": "code",
   "execution_count": null,
   "metadata": {
    "collapsed": true
   },
   "outputs": [],
   "source": []
  }
 ],
 "metadata": {
  "kernelspec": {
   "display_name": "IPython (Python 2.7)",
   "language": "python",
   "name": "python2.7"
  },
  "language_info": {
   "codemirror_mode": {
    "name": "ipython",
    "version": 2
   },
   "file_extension": ".py",
   "mimetype": "text/x-python",
   "name": "python",
   "nbconvert_exporter": "python",
   "pygments_lexer": "ipython2",
   "version": "2.7.6"
  }
 },
 "nbformat": 4,
 "nbformat_minor": 2
}
