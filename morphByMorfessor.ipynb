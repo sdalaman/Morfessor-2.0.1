{
 "cells": [
  {
   "cell_type": "code",
   "execution_count": 1,
   "metadata": {
    "collapsed": true,
    "deletable": true,
    "editable": true
   },
   "outputs": [],
   "source": [
    "import morfessor\n",
    "import sys\n",
    "import re\n",
    "import os"
   ]
  },
  {
   "cell_type": "code",
   "execution_count": 2,
   "metadata": {
    "collapsed": false,
    "deletable": true,
    "editable": true
   },
   "outputs": [],
   "source": [
    "io = morfessor.MorfessorIO()"
   ]
  },
  {
   "cell_type": "code",
   "execution_count": 8,
   "metadata": {
    "collapsed": true,
    "deletable": true,
    "editable": true
   },
   "outputs": [],
   "source": [
    "modelTr = io.read_any_model('./morfessor-models/turk.all.bin')\n",
    "modelEn = io.read_any_model('./morfessor-models/eng.all.bin')"
   ]
  },
  {
   "cell_type": "code",
   "execution_count": null,
   "metadata": {
    "collapsed": true,
    "deletable": true,
    "editable": true
   },
   "outputs": [],
   "source": []
  },
  {
   "cell_type": "code",
   "execution_count": 14,
   "metadata": {
    "collapsed": true,
    "deletable": true,
    "editable": true
   },
   "outputs": [],
   "source": [
    "words = ['zor','karakterlerim']"
   ]
  },
  {
   "cell_type": "code",
   "execution_count": 15,
   "metadata": {
    "collapsed": false,
    "deletable": true,
    "editable": true
   },
   "outputs": [
    {
     "name": "stdout",
     "output_type": "stream",
     "text": [
      "(['zor'], 10.729933956716733)\n",
      "(['karakterleri', 'm'], 17.034045574855007)\n"
     ]
    }
   ],
   "source": [
    "for word in words:\n",
    "    print(modelTr.viterbi_segment(word,5))"
   ]
  },
  {
   "cell_type": "code",
   "execution_count": 5,
   "metadata": {
    "collapsed": false,
    "deletable": true,
    "editable": true
   },
   "outputs": [],
   "source": [
    "lst,p = modelTr.viterbi_segment('zor',5)"
   ]
  },
  {
   "cell_type": "code",
   "execution_count": 6,
   "metadata": {
    "collapsed": false,
    "deletable": true,
    "editable": true
   },
   "outputs": [
    {
     "data": {
      "text/plain": [
       "1"
      ]
     },
     "execution_count": 6,
     "metadata": {},
     "output_type": "execute_result"
    }
   ],
   "source": [
    "len(lst)"
   ]
  },
  {
   "cell_type": "code",
   "execution_count": 6,
   "metadata": {
    "collapsed": false,
    "deletable": true,
    "editable": true
   },
   "outputs": [
    {
     "name": "stdout",
     "output_type": "stream",
     "text": [
      "50000\n",
      "100000\n",
      " # of lines : 136793\n"
     ]
    }
   ],
   "source": [
    "out = open(\"turkish.all.tok.morph.list\",'w')\n",
    "outu = open(\"turkish.all.tok.singlemorph.list\",'w')\n",
    "i = 0\n",
    "with open(\"turkish.all.tok\", 'r') as f:\n",
    "    for line in f:\n",
    "        i = i + 1\n",
    "        if(i % 50000 == 0):\n",
    "            out.flush()\n",
    "            os.fsync(out.fileno())\n",
    "            outu.flush()\n",
    "            os.fsync(outu.fileno())\n",
    "            print( i)\n",
    "        if(line[0:7] == \"http://\" or line[0:7] == \"https://\"):\n",
    "            continue\n",
    "        words = line.split() \n",
    "        for wrd in words:\n",
    "            mrpList,p=modelTr.viterbi_segment(wrd)\n",
    "            if(len(mrpList) == 1):\n",
    "                outu.write(\"%s :- \" % wrd)\n",
    "                outu.write(str(mrpList[0]))\n",
    "                outu.write(\"\\n\")\n",
    "            else:\n",
    "                out.write(\"%s :- \" % wrd)\n",
    "                for ww in mrpList:\n",
    "                    out.write(str(ww))\n",
    "                    out.write(\"+\")\n",
    "                out.write(\"\\n\")\n",
    "\n",
    "print(\" # of lines : %d\" % i)\n",
    "f.close()\n",
    "out.close()\n",
    "outu.close()"
   ]
  },
  {
   "cell_type": "code",
   "execution_count": 7,
   "metadata": {
    "collapsed": false,
    "deletable": true,
    "editable": true
   },
   "outputs": [
    {
     "name": "stdout",
     "output_type": "stream",
     "text": [
      "50000\n",
      "100000\n",
      " # of lines : 136793\n"
     ]
    }
   ],
   "source": [
    "out = open(\"english.all.tok.morph.list\",'w')\n",
    "outu = open(\"english.all.tok.singlemorph.list\",'w')\n",
    "i = 0\n",
    "with open(\"english.all.tok\", 'r') as f:\n",
    "    for line in f:\n",
    "        i = i + 1\n",
    "        if(i % 50000 == 0):\n",
    "            out.flush()\n",
    "            os.fsync(out.fileno())\n",
    "            outu.flush()\n",
    "            os.fsync(outu.fileno())\n",
    "            print( i)\n",
    "        if(line[0:7] == \"http://\" or line[0:7] == \"https://\"):\n",
    "            continue\n",
    "        words = line.split() \n",
    "        for wrd in words:\n",
    "            mrpList,p=modelEn.viterbi_segment(wrd)\n",
    "            if(len(mrpList) == 1):\n",
    "                outu.write(\"%s :- \" % wrd)\n",
    "                outu.write(str(mrpList[0]))\n",
    "                outu.write(\"\\n\")\n",
    "            else:\n",
    "                out.write(\"%s :- \" % wrd)\n",
    "                for ww in mrpList:\n",
    "                    out.write(str(ww))\n",
    "                    out.write(\"+\")\n",
    "                out.write(\"\\n\")\n",
    "\n",
    "print(\" # of lines : %d\" % i)\n",
    "f.close()\n",
    "out.close()\n",
    "outu.close()"
   ]
  },
  {
   "cell_type": "code",
   "execution_count": 9,
   "metadata": {
    "collapsed": false,
    "deletable": true,
    "editable": true
   },
   "outputs": [
    {
     "name": "stdout",
     "output_type": "stream",
     "text": [
      " # of tokens : 12\n"
     ]
    }
   ],
   "source": [
    "out = open(\"61.tr.morph\",'w')\n",
    "outu = open(\"61.tr.singlemorph\",'w')\n",
    "i = 0\n",
    "with open(\"61.tr.tok\", 'r') as f:\n",
    "    for line in f:\n",
    "        i = i + 1\n",
    "        if(i % 50000 == 0):\n",
    "            out.flush()\n",
    "            os.fsync(out.fileno())\n",
    "            outu.flush()\n",
    "            os.fsync(outu.fileno())\n",
    "            print( i)\n",
    "        if(line[0:7] == \"http://\" or line[0:7] == \"https://\"):\n",
    "            continue\n",
    "        words = line.split() \n",
    "        for wrd in words:\n",
    "            mrpList,p=modelTr.viterbi_segment(wrd)\n",
    "            if(len(mrpList) == 1):\n",
    "                outu.write(\"%s :- \" % wrd)\n",
    "                outu.write(str(mrpList[0]))\n",
    "                outu.write(\"\\n\")\n",
    "            else:\n",
    "                out.write(\"%s :- \" % wrd)\n",
    "                for ww in mrpList:\n",
    "                    out.write(str(ww))\n",
    "                    out.write(\"+\")\n",
    "                out.write(\"\\n\")\n",
    "\n",
    "print(\" # of tokens : %d\" % i)\n",
    "f.close()\n",
    "out.close()\n",
    "outu.close()"
   ]
  },
  {
   "cell_type": "code",
   "execution_count": 10,
   "metadata": {
    "collapsed": false,
    "deletable": true,
    "editable": true
   },
   "outputs": [
    {
     "name": "stdout",
     "output_type": "stream",
     "text": [
      " # of tokens : 13\n"
     ]
    }
   ],
   "source": [
    "out = open(\"61.en.morph\",'w')\n",
    "outu = open(\"61.en.singlemorph\",'w')\n",
    "i = 0\n",
    "with open(\"61.en.tok\", 'r') as f:\n",
    "    for line in f:\n",
    "        i = i + 1\n",
    "        if(i % 50000 == 0):\n",
    "            out.flush()\n",
    "            os.fsync(out.fileno())\n",
    "            outu.flush()\n",
    "            os.fsync(outu.fileno())\n",
    "            print( i)\n",
    "        if(line[0:7] == \"http://\" or line[0:7] == \"https://\"):\n",
    "            continue\n",
    "        words = line.split() \n",
    "        for wrd in words:\n",
    "            mrpList,p=modelEn.viterbi_segment(wrd)\n",
    "            if(len(mrpList) == 1):\n",
    "                outu.write(\"%s :- \" % wrd)\n",
    "                outu.write(str(mrpList[0]))\n",
    "                outu.write(\"\\n\")\n",
    "            else:\n",
    "                out.write(\"%s :- \" % wrd)\n",
    "                for ww in mrpList:\n",
    "                    out.write(str(ww))\n",
    "                    out.write(\"+\")\n",
    "                out.write(\"\\n\")\n",
    "\n",
    "print(\" # of tokens : %d\" % i)\n",
    "f.close()\n",
    "out.close()\n",
    "outu.close()"
   ]
  },
  {
   "cell_type": "code",
   "execution_count": 5,
   "metadata": {
    "collapsed": true,
    "deletable": true,
    "editable": true
   },
   "outputs": [],
   "source": [
    "modelDe = io.read_any_model('./morfessor-models/de.all.bin')\n",
    "modelFr = io.read_any_model('./morfessor-models/fr.all.bin')"
   ]
  },
  {
   "cell_type": "code",
   "execution_count": 10,
   "metadata": {
    "collapsed": false,
    "deletable": true,
    "editable": true
   },
   "outputs": [
    {
     "name": "stdout",
     "output_type": "stream",
     "text": [
      "50000\n",
      "100000\n",
      " # of lines : 138500\n"
     ]
    }
   ],
   "source": [
    "out = open(\"deutch.all.tok.morph.list\",'w')\n",
    "outu = open(\"deutch.all.tok.singlemorph.list\",'w')\n",
    "i = 0\n",
    "with open(\"train.de-en.de.tok\", 'r') as f:\n",
    "    for line in f:\n",
    "        i = i + 1\n",
    "        if(i % 50000 == 0):\n",
    "            out.flush()\n",
    "            os.fsync(out.fileno())\n",
    "            outu.flush()\n",
    "            os.fsync(outu.fileno())\n",
    "            print( i)\n",
    "        if(line[0:7] == \"http://\" or line[0:7] == \"https://\"):\n",
    "            continue\n",
    "        words = line.split() \n",
    "        for wrd in words:\n",
    "            mrpList,p=modelDe.viterbi_segment(wrd)\n",
    "            if(len(mrpList) == 1):\n",
    "                outu.write(\"%s :- \" % wrd)\n",
    "                outu.write(str(mrpList[0]))\n",
    "                outu.write(\"\\n\")\n",
    "            else:\n",
    "                out.write(\"%s :- \" % wrd)\n",
    "                for ww in mrpList:\n",
    "                    out.write(str(ww))\n",
    "                    out.write(\"+\")\n",
    "                out.write(\"\\n\")\n",
    "\n",
    "print(\" # of lines : %d\" % i)\n",
    "f.close()\n",
    "out.close()\n",
    "outu.close()"
   ]
  },
  {
   "cell_type": "code",
   "execution_count": 11,
   "metadata": {
    "collapsed": false
   },
   "outputs": [
    {
     "name": "stdout",
     "output_type": "stream",
     "text": [
      "50000\n",
      "100000\n",
      " # of lines : 138500\n"
     ]
    }
   ],
   "source": [
    "out = open(\"train.de-en.en.tok.morph.list\",'w')\n",
    "outu = open(\"train.de-en.en.tok.singlemorph.list\",'w')\n",
    "i = 0\n",
    "with open(\"train.de-en.en.tok\", 'r') as f:\n",
    "    for line in f:\n",
    "        i = i + 1\n",
    "        if(i % 50000 == 0):\n",
    "            out.flush()\n",
    "            os.fsync(out.fileno())\n",
    "            outu.flush()\n",
    "            os.fsync(outu.fileno())\n",
    "            print( i)\n",
    "        if(line[0:7] == \"http://\" or line[0:7] == \"https://\"):\n",
    "            continue\n",
    "        words = line.split() \n",
    "        for wrd in words:\n",
    "            mrpList,p=modelEn.viterbi_segment(wrd)\n",
    "            if(len(mrpList) == 1):\n",
    "                outu.write(\"%s :- \" % wrd)\n",
    "                outu.write(str(mrpList[0]))\n",
    "                outu.write(\"\\n\")\n",
    "            else:\n",
    "                out.write(\"%s :- \" % wrd)\n",
    "                for ww in mrpList:\n",
    "                    out.write(str(ww))\n",
    "                    out.write(\"+\")\n",
    "                out.write(\"\\n\")\n",
    "\n",
    "print(\" # of lines : %d\" % i)\n",
    "f.close()\n",
    "out.close()\n",
    "outu.close()"
   ]
  },
  {
   "cell_type": "code",
   "execution_count": 12,
   "metadata": {
    "collapsed": false
   },
   "outputs": [
    {
     "name": "stdout",
     "output_type": "stream",
     "text": [
      "50000\n",
      "100000\n",
      "150000\n",
      " # of lines : 154499\n"
     ]
    }
   ],
   "source": [
    "out = open(\"french.all.tok.morph.list\",'w')\n",
    "outu = open(\"french.all.tok.singlemorph.list\",'w')\n",
    "i = 0\n",
    "with open(\"train.en-fr.fr.tok\", 'r') as f:\n",
    "    for line in f:\n",
    "        i = i + 1\n",
    "        if(i % 50000 == 0):\n",
    "            out.flush()\n",
    "            os.fsync(out.fileno())\n",
    "            outu.flush()\n",
    "            os.fsync(outu.fileno())\n",
    "            print( i)\n",
    "        if(line[0:7] == \"http://\" or line[0:7] == \"https://\"):\n",
    "            continue\n",
    "        words = line.split() \n",
    "        for wrd in words:\n",
    "            mrpList,p=modelFr.viterbi_segment(wrd)\n",
    "            if(len(mrpList) == 1):\n",
    "                outu.write(\"%s :- \" % wrd)\n",
    "                outu.write(str(mrpList[0]))\n",
    "                outu.write(\"\\n\")\n",
    "            else:\n",
    "                out.write(\"%s :- \" % wrd)\n",
    "                for ww in mrpList:\n",
    "                    out.write(str(ww))\n",
    "                    out.write(\"+\")\n",
    "                out.write(\"\\n\")\n",
    "\n",
    "print(\" # of lines : %d\" % i)\n",
    "f.close()\n",
    "out.close()\n",
    "outu.close()"
   ]
  },
  {
   "cell_type": "code",
   "execution_count": 13,
   "metadata": {
    "collapsed": false
   },
   "outputs": [
    {
     "name": "stdout",
     "output_type": "stream",
     "text": [
      "50000\n",
      "100000\n",
      "150000\n",
      " # of lines : 154499\n"
     ]
    }
   ],
   "source": [
    "out = open(\"train.en-fr.en.tok.morph.list\",'w')\n",
    "outu = open(\"train.en-fr.en.tok.singlemorph.list\",'w')\n",
    "i = 0\n",
    "with open(\"train.en-fr.en.tok\", 'r') as f:\n",
    "    for line in f:\n",
    "        i = i + 1\n",
    "        if(i % 50000 == 0):\n",
    "            out.flush()\n",
    "            os.fsync(out.fileno())\n",
    "            outu.flush()\n",
    "            os.fsync(outu.fileno())\n",
    "            print( i)\n",
    "        if(line[0:7] == \"http://\" or line[0:7] == \"https://\"):\n",
    "            continue\n",
    "        words = line.split() \n",
    "        for wrd in words:\n",
    "            mrpList,p=modelEn.viterbi_segment(wrd)\n",
    "            if(len(mrpList) == 1):\n",
    "                outu.write(\"%s :- \" % wrd)\n",
    "                outu.write(str(mrpList[0]))\n",
    "                outu.write(\"\\n\")\n",
    "            else:\n",
    "                out.write(\"%s :- \" % wrd)\n",
    "                for ww in mrpList:\n",
    "                    out.write(str(ww))\n",
    "                    out.write(\"+\")\n",
    "                out.write(\"\\n\")\n",
    "\n",
    "print(\" # of lines : %d\" % i)\n",
    "f.close()\n",
    "out.close()\n",
    "outu.close()"
   ]
  },
  {
   "cell_type": "code",
   "execution_count": null,
   "metadata": {
    "collapsed": true
   },
   "outputs": [],
   "source": []
  }
 ],
 "metadata": {
  "kernelspec": {
   "display_name": "IPython (Python 3.5)",
   "language": "python",
   "name": "python3.5"
  },
  "language_info": {
   "codemirror_mode": {
    "name": "ipython",
    "version": 3
   },
   "file_extension": ".py",
   "mimetype": "text/x-python",
   "name": "python",
   "nbconvert_exporter": "python",
   "pygments_lexer": "ipython3",
   "version": "3.5.3"
  }
 },
 "nbformat": 4,
 "nbformat_minor": 2
}
