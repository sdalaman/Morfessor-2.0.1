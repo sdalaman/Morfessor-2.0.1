{
 "cells": [
  {
   "cell_type": "code",
   "execution_count": 1,
   "metadata": {
    "collapsed": true,
    "deletable": true,
    "editable": true
   },
   "outputs": [],
   "source": [
    "import morfessor\n",
    "import sys\n",
    "import re\n",
    "import os"
   ]
  },
  {
   "cell_type": "code",
   "execution_count": 9,
   "metadata": {
    "collapsed": false,
    "deletable": true,
    "editable": true
   },
   "outputs": [
    {
     "name": "stdout",
     "output_type": "stream",
     "text": [
      "50000\n",
      "100000\n",
      " # of tokens : 135906\n"
     ]
    }
   ],
   "source": [
    "out = open(\"turkish.all.tok.morph\",'w')\n",
    "outu = open(\"turkish.all.tok.singlemorph\",'w')\n",
    "i = 0\n",
    "with open(\"turkish.all.tok\", 'r') as f:\n",
    "    for line in f:\n",
    "        i = i + 1\n",
    "        if(i % 50000 == 0):\n",
    "            out.flush()\n",
    "            os.fsync(out.fileno())\n",
    "            outu.flush()\n",
    "            os.fsync(outu.fileno())\n",
    "            print( i)\n",
    "        if(line[0:7] == \"http://\" or line[0:7] == \"https://\"):\n",
    "            continue\n",
    "        words = line.split() \n",
    "        for wrd in words:\n",
    "            mrpList,p=modelTr.viterbi_segment(wrd)\n",
    "            if(len(mrpList) == 1):\n",
    "                outu.write(\"%s :- \" % wrd)\n",
    "                outu.write(str(mrpList[0]))\n",
    "                outu.write(\"\\n\")\n",
    "            else:\n",
    "                out.write(\"%s :- \" % wrd)\n",
    "                for ww in mrpList:\n",
    "                    out.write(str(ww))\n",
    "                    out.write(\"+\")\n",
    "                out.write(\"\\n\")\n",
    "\n",
    "print(\" # of tokens : %d\" % i)\n",
    "f.close()\n",
    "out.close()\n",
    "outu.close()"
   ]
  }
 ],
 "metadata": {
  "kernelspec": {
   "display_name": "IPython (Python 3.5)",
   "language": "python",
   "name": "python3.5"
  },
  "language_info": {
   "codemirror_mode": {
    "name": "ipython",
    "version": 3
   },
   "file_extension": ".py",
   "mimetype": "text/x-python",
   "name": "python",
   "nbconvert_exporter": "python",
   "pygments_lexer": "ipython3",
   "version": "3.5.3"
  }
 },
 "nbformat": 4,
 "nbformat_minor": 2
}
